{
 "cells": [
  {
   "cell_type": "code",
   "execution_count": 4,
   "id": "968dfec9",
   "metadata": {},
   "outputs": [
    {
     "data": {
      "text/plain": [
       "array([[1, 2, 3],\n",
       "       [4, 5, 6]])"
      ]
     },
     "execution_count": 4,
     "metadata": {},
     "output_type": "execute_result"
    }
   ],
   "source": [
    "import numpy as np\n",
    "import pandas as pd\n",
    "matriz = np.array([[1,2,3],[4,5,6]])\n",
    "matriz"
   ]
  },
  {
   "cell_type": "markdown",
   "id": "cc79e328",
   "metadata": {},
   "source": [
    "# !pip install numpy\""
   ]
  },
  {
   "cell_type": "code",
   "execution_count": 8,
   "id": "abc50686",
   "metadata": {},
   "outputs": [
    {
     "data": {
      "text/plain": [
       "numpy.ndarray"
      ]
     },
     "execution_count": 8,
     "metadata": {},
     "output_type": "execute_result"
    }
   ],
   "source": [
    "type(matriz)"
   ]
  },
  {
   "cell_type": "code",
   "execution_count": 32,
   "id": "c7141c44",
   "metadata": {},
   "outputs": [
    {
     "name": "stdout",
     "output_type": "stream",
     "text": [
      "array1[[23 22  1]\n",
      " [12  1  7]]\n",
      "array2[[20  9  0]\n",
      " [10 17 22]]\n"
     ]
    },
    {
     "data": {
      "text/plain": [
       "array([[43, 31,  1],\n",
       "       [22, 18, 29]])"
      ]
     },
     "execution_count": 32,
     "metadata": {},
     "output_type": "execute_result"
    }
   ],
   "source": [
    "# Multiplicando arrays\n",
    "array2 = np.random.randint(0,30,size=(2, 3))\n",
    "print(\"array1{}\".format(array1))\n",
    "print(\"array2{}\".format(array2))\n",
    "result = array1+array2\n",
    "result"
   ]
  },
  {
   "cell_type": "code",
   "execution_count": 34,
   "id": "056bc926",
   "metadata": {},
   "outputs": [
    {
     "data": {
      "text/plain": [
       "array([2, 4, 6])"
      ]
     },
     "execution_count": 34,
     "metadata": {},
     "output_type": "execute_result"
    }
   ],
   "source": [
    "# mutiplicando array por escalar\n",
    "array = np.array([1,2,3])\n",
    "multi_by_escalar = 2*array\n",
    "multi_by_escalar"
   ]
  },
  {
   "cell_type": "code",
   "execution_count": 39,
   "id": "395512ff",
   "metadata": {},
   "outputs": [],
   "source": [
    "# matriz identidade\n",
    "i = np.eye(4)\n"
   ]
  },
  {
   "cell_type": "code",
   "execution_count": 58,
   "id": "49225623",
   "metadata": {},
   "outputs": [
    {
     "data": {
      "text/plain": [
       "array([[[ 0,  1,  2],\n",
       "        [ 3,  4,  5],\n",
       "        [ 6,  7,  8]],\n",
       "\n",
       "       [[ 9, 10, 11],\n",
       "        [12, 13, 14],\n",
       "        [15, 16, 17]],\n",
       "\n",
       "       [[18, 19, 20],\n",
       "        [21, 22, 23],\n",
       "        [24, 25, 26]]])"
      ]
     },
     "execution_count": 58,
     "metadata": {},
     "output_type": "execute_result"
    }
   ],
   "source": [
    "# resize array 1D to 3D\n",
    "array_1d = np.array([x for x in range(27)])\n",
    "array_1d\n",
    "array_3d = array_1d.reshape(3,3,3)     \n",
    "array_3d"
   ]
  }
 ],
 "metadata": {
  "kernelspec": {
   "display_name": "Python 3 (ipykernel)",
   "language": "python",
   "name": "python3"
  },
  "language_info": {
   "codemirror_mode": {
    "name": "ipython",
    "version": 3
   },
   "file_extension": ".py",
   "mimetype": "text/x-python",
   "name": "python",
   "nbconvert_exporter": "python",
   "pygments_lexer": "ipython3",
   "version": "3.10.4"
  }
 },
 "nbformat": 4,
 "nbformat_minor": 5
}
