{
 "cells": [
  {
   "cell_type": "code",
   "execution_count": 4,
   "id": "da4fd4cb",
   "metadata": {},
   "outputs": [],
   "source": [
    "import numpy as np\n",
    "import pandas as pd"
   ]
  },
  {
   "cell_type": "markdown",
   "id": "00ff6c69",
   "metadata": {},
   "source": [
    "# Criando um dataframe"
   ]
  },
  {
   "cell_type": "code",
   "execution_count": 29,
   "id": "d71159b0",
   "metadata": {},
   "outputs": [
    {
     "ename": "SyntaxError",
     "evalue": "unmatched ')' (1628340018.py, line 4)",
     "output_type": "error",
     "traceback": [
      "\u001b[1;36m  Input \u001b[1;32mIn [29]\u001b[1;36m\u001b[0m\n\u001b[1;33m    df = pd.DataFrame(np.random.randint(1,10,6)).reshape(2,3))\u001b[0m\n\u001b[1;37m                                                             ^\u001b[0m\n\u001b[1;31mSyntaxError\u001b[0m\u001b[1;31m:\u001b[0m unmatched ')'\n"
     ]
    }
   ],
   "source": [
    "#df = pd.DataFrame([[1,2,3],[\"a\",\"b\",\"c\"]])\n",
    "#df = pd.DataFrame({\"time\":[\"Bahia\",\"Vitoria\",\"Fluminense\"],'victores':[\"12\",\"11\",\"10\"]})\n",
    "df = pd.DataFrame(np.random.randn(3,2))\n",
    "df = pd.DataFrame(np.random.randint(1,10,6).res\n",
    "df"
   ]
  }
 ],
 "metadata": {
  "kernelspec": {
   "display_name": "Python 3 (ipykernel)",
   "language": "python",
   "name": "python3"
  },
  "language_info": {
   "codemirror_mode": {
    "name": "ipython",
    "version": 3
   },
   "file_extension": ".py",
   "mimetype": "text/x-python",
   "name": "python",
   "nbconvert_exporter": "python",
   "pygments_lexer": "ipython3",
   "version": "3.10.4"
  }
 },
 "nbformat": 4,
 "nbformat_minor": 5
}
