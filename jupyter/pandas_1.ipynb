{
 "cells": [
  {
   "cell_type": "code",
   "execution_count": 42,
   "id": "533db139",
   "metadata": {},
   "outputs": [],
   "source": [
    "import numpy as np\n",
    "import pandas as pd"
   ]
  },
  {
   "cell_type": "markdown",
   "id": "3514b0ea",
   "metadata": {},
   "source": [
    "# Criando um dataframe"
   ]
  },
  {
   "cell_type": "code",
   "execution_count": 45,
   "id": "5a6d5f4f",
   "metadata": {},
   "outputs": [
    {
     "data": {
      "text/html": [
       "<div>\n",
       "<style scoped>\n",
       "    .dataframe tbody tr th:only-of-type {\n",
       "        vertical-align: middle;\n",
       "    }\n",
       "\n",
       "    .dataframe tbody tr th {\n",
       "        vertical-align: top;\n",
       "    }\n",
       "\n",
       "    .dataframe thead th {\n",
       "        text-align: right;\n",
       "    }\n",
       "</style>\n",
       "<table border=\"1\" class=\"dataframe\">\n",
       "  <thead>\n",
       "    <tr style=\"text-align: right;\">\n",
       "      <th></th>\n",
       "      <th>Bahia</th>\n",
       "      <th>Vitoria</th>\n",
       "      <th>Flu Feira</th>\n",
       "    </tr>\n",
       "  </thead>\n",
       "  <tbody>\n",
       "    <tr>\n",
       "      <th>Gols</th>\n",
       "      <td>4</td>\n",
       "      <td>8</td>\n",
       "      <td>5</td>\n",
       "    </tr>\n",
       "    <tr>\n",
       "      <th>Vitorias</th>\n",
       "      <td>9</td>\n",
       "      <td>5</td>\n",
       "      <td>4</td>\n",
       "    </tr>\n",
       "  </tbody>\n",
       "</table>\n",
       "</div>"
      ],
      "text/plain": [
       "          Bahia  Vitoria  Flu Feira\n",
       "Gols          4        8          5\n",
       "Vitorias      9        5          4"
      ]
     },
     "execution_count": 45,
     "metadata": {},
     "output_type": "execute_result"
    }
   ],
   "source": [
    "#df = pd.DataFrame([[1,2,3],[\"a\",\"b\",\"c\"]])\n",
    "#df = pd.DataFrame({\"time\":[\"Bahia\",\"Vitoria\",\"Fluminense\"],'victores':[\"12\",\"11\",\"10\"]})\n",
    "#df = pd.DataFrame(np.random.randn(3,2))\n",
    "#df = pd.DataFrame(np.random.randint(1,10,6).reshape(3,2))\n",
    "df = pd.DataFrame(np.random.randint(1,10,6).reshape(2,3),columns=['Bahia','Vitoria','Flu Feira'],index=['Gols','Vitorias'])\n",
    "df"
   ]
  },
  {
   "cell_type": "markdown",
   "id": "d2b9e6de",
   "metadata": {},
   "source": [
    "# seleção de dados\n"
   ]
  },
  {
   "cell_type": "code",
   "execution_count": null,
   "id": "a9a32cbc",
   "metadata": {},
   "outputs": [],
   "source": []
  }
 ],
 "metadata": {
  "kernelspec": {
   "display_name": "Python 3 (ipykernel)",
   "language": "python",
   "name": "python3"
  },
  "language_info": {
   "codemirror_mode": {
    "name": "ipython",
    "version": 3
   },
   "file_extension": ".py",
   "mimetype": "text/x-python",
   "name": "python",
   "nbconvert_exporter": "python",
   "pygments_lexer": "ipython3",
   "version": "3.10.4"
  }
 },
 "nbformat": 4,
 "nbformat_minor": 5
}
